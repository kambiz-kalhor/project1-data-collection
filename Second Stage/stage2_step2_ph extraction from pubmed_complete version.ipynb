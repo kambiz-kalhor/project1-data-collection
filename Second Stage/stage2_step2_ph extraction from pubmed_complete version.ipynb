{
 "cells": [
  {
   "cell_type": "markdown",
   "metadata": {},
   "source": [
    "# importing some packages"
   ]
  },
  {
   "cell_type": "code",
   "execution_count": 1,
   "metadata": {},
   "outputs": [],
   "source": [
    "import pandas as pd\n",
    "import re\n",
    "from pymed import PubMed"
   ]
  },
  {
   "cell_type": "markdown",
   "metadata": {},
   "source": [
    "# creating queries to download the species"
   ]
  },
  {
   "cell_type": "code",
   "execution_count": 2,
   "metadata": {},
   "outputs": [],
   "source": [
    "the_13040_file = pd.read_csv(r\"C:\\Users\\kamy\\Desktop\\13400 final_data.csv\")"
   ]
  },
  {
   "cell_type": "code",
   "execution_count": 3,
   "metadata": {},
   "outputs": [],
   "source": [
    "list_of_species = the_13040_file['Species']"
   ]
  },
  {
   "cell_type": "code",
   "execution_count": 4,
   "metadata": {},
   "outputs": [
    {
     "data": {
      "text/plain": [
       "0                         Abyssicoccus albus\n",
       "1                    Abyssivirga alkaniphila\n",
       "2                Acetivibrio alkalicellulosi\n",
       "3                    Acetivibrio clariflavus\n",
       "4                Acetivibrio straminisolvens\n",
       "                        ...                 \n",
       "13395               Zunongwangia endophytica\n",
       "13396                  Zunongwangia mangrovi\n",
       "13397                  Zunongwangia profunda\n",
       "13398    Zymomonas mobilis subsp. francensis\n",
       "13399      Zymomonas mobilis subsp. pomaceae\n",
       "Name: Species, Length: 13400, dtype: object"
      ]
     },
     "execution_count": 4,
     "metadata": {},
     "output_type": "execute_result"
    }
   ],
   "source": [
    "list_of_species"
   ]
  },
  {
   "cell_type": "code",
   "execution_count": 5,
   "metadata": {},
   "outputs": [],
   "source": [
    "# removing the repeated species\n",
    "new_list_of_species =[]\n",
    "for i in list_of_species:\n",
    "    if i not in new_list_of_species:\n",
    "        new_list_of_species.append(i)\n",
    "        \n",
    "list_of_species = new_list_of_species"
   ]
  },
  {
   "cell_type": "code",
   "execution_count": 6,
   "metadata": {},
   "outputs": [
    {
     "data": {
      "text/plain": [
       "8439"
      ]
     },
     "execution_count": 6,
     "metadata": {},
     "output_type": "execute_result"
    }
   ],
   "source": [
    "len(list_of_species)"
   ]
  },
  {
   "cell_type": "code",
   "execution_count": 10,
   "metadata": {},
   "outputs": [],
   "source": [
    "list_of_species = list_of_species[0:100]"
   ]
  },
  {
   "cell_type": "markdown",
   "metadata": {},
   "source": [
    "# our regexes to extract pH and optimum pH (FIRST try)"
   ]
  },
  {
   "cell_type": "code",
   "execution_count": 12,
   "metadata": {},
   "outputs": [
    {
     "ename": "NameError",
     "evalue": "name 'regex26' is not defined",
     "output_type": "error",
     "traceback": [
      "\u001b[1;31m---------------------------------------------------------------------------\u001b[0m",
      "\u001b[1;31mNameError\u001b[0m                                 Traceback (most recent call last)",
      "\u001b[1;32m<ipython-input-12-41726edfb2e7>\u001b[0m in \u001b[0;36m<module>\u001b[1;34m\u001b[0m\n\u001b[0;32m     74\u001b[0m \u001b[1;33m\u001b[0m\u001b[0m\n\u001b[0;32m     75\u001b[0m \u001b[1;31m#####################################  make a list of regexes   #################################################\u001b[0m\u001b[1;33m\u001b[0m\u001b[1;33m\u001b[0m\u001b[1;33m\u001b[0m\u001b[0m\n\u001b[1;32m---> 76\u001b[1;33m \u001b[0mregexes\u001b[0m \u001b[1;33m=\u001b[0m \u001b[1;33m[\u001b[0m\u001b[0mregex1\u001b[0m\u001b[1;33m,\u001b[0m\u001b[0mregex2\u001b[0m\u001b[1;33m,\u001b[0m\u001b[0mregex3\u001b[0m\u001b[1;33m,\u001b[0m\u001b[0mregex4\u001b[0m\u001b[1;33m,\u001b[0m\u001b[0mregex5\u001b[0m\u001b[1;33m,\u001b[0m\u001b[0mregex6\u001b[0m\u001b[1;33m,\u001b[0m\u001b[0mregex7\u001b[0m\u001b[1;33m,\u001b[0m\u001b[0mregex8\u001b[0m\u001b[1;33m,\u001b[0m\u001b[0mregex9\u001b[0m\u001b[1;33m,\u001b[0m\u001b[0mregex10\u001b[0m\u001b[1;33m,\u001b[0m\u001b[0mregex11\u001b[0m\u001b[1;33m,\u001b[0m\u001b[0mregex12\u001b[0m\u001b[1;33m,\u001b[0m\u001b[0mregex13\u001b[0m\u001b[1;33m,\u001b[0m\u001b[0mregex14\u001b[0m\u001b[1;33m,\u001b[0m\u001b[0mregex15\u001b[0m\u001b[1;33m,\u001b[0m\u001b[0mregex16\u001b[0m\u001b[1;33m,\u001b[0m\u001b[0mregex17\u001b[0m\u001b[1;33m,\u001b[0m\u001b[0mregex18\u001b[0m\u001b[1;33m,\u001b[0m\u001b[0mregex19\u001b[0m\u001b[1;33m,\u001b[0m\u001b[0mregex20\u001b[0m\u001b[1;33m,\u001b[0m\u001b[0mregex21\u001b[0m\u001b[1;33m,\u001b[0m\u001b[0mregex22\u001b[0m\u001b[1;33m,\u001b[0m\u001b[0mregex23\u001b[0m\u001b[1;33m,\u001b[0m\u001b[0mregex24\u001b[0m\u001b[1;33m,\u001b[0m\u001b[0mregex25\u001b[0m\u001b[1;33m,\u001b[0m\u001b[0mregex26\u001b[0m\u001b[1;33m,\u001b[0m\u001b[0mregex27\u001b[0m\u001b[1;33m,\u001b[0m      \u001b[0mreggex1\u001b[0m\u001b[1;33m,\u001b[0m\u001b[0mreggex2\u001b[0m\u001b[1;33m,\u001b[0m\u001b[0mreggex3\u001b[0m\u001b[1;33m,\u001b[0m\u001b[0mreggex4\u001b[0m\u001b[1;33m,\u001b[0m\u001b[0mreggex5\u001b[0m\u001b[1;33m,\u001b[0m\u001b[0mreggex6\u001b[0m\u001b[1;33m,\u001b[0m\u001b[0mreggex7\u001b[0m\u001b[1;33m,\u001b[0m\u001b[0mreggex8\u001b[0m\u001b[1;33m,\u001b[0m\u001b[0mreggex9\u001b[0m\u001b[1;33m,\u001b[0m\u001b[0mreggex10\u001b[0m\u001b[1;33m,\u001b[0m\u001b[0mreggex11\u001b[0m\u001b[1;33m,\u001b[0m\u001b[0mreggex12\u001b[0m\u001b[1;33m,\u001b[0m\u001b[0mreggex13\u001b[0m\u001b[1;33m,\u001b[0m\u001b[0mreggex14\u001b[0m\u001b[1;33m,\u001b[0m\u001b[0mreggex15\u001b[0m\u001b[1;33m,\u001b[0m\u001b[0mreggex16\u001b[0m\u001b[1;33m,\u001b[0m\u001b[0mreggex17\u001b[0m\u001b[1;33m,\u001b[0m\u001b[0mreggex18\u001b[0m\u001b[1;33m,\u001b[0m\u001b[0mreggex19\u001b[0m\u001b[1;33m,\u001b[0m\u001b[0mreggex20\u001b[0m\u001b[1;33m,\u001b[0m\u001b[0mreggex21\u001b[0m\u001b[1;33m,\u001b[0m\u001b[0mreggex22\u001b[0m\u001b[1;33m,\u001b[0m\u001b[0mreggex23\u001b[0m\u001b[1;33m,\u001b[0m\u001b[0mreggex24\u001b[0m\u001b[1;33m,\u001b[0m\u001b[0mreggex25\u001b[0m\u001b[1;33m,\u001b[0m\u001b[0mreggex26\u001b[0m\u001b[1;33m,\u001b[0m\u001b[0mreggex27\u001b[0m\u001b[1;33m,\u001b[0m\u001b[0mreggex28\u001b[0m\u001b[1;33m,\u001b[0m\u001b[0mreggex29\u001b[0m\u001b[1;33m,\u001b[0m\u001b[0mreggex30\u001b[0m\u001b[1;33m,\u001b[0m\u001b[0mreggex31\u001b[0m\u001b[1;33m,\u001b[0m\u001b[0mreggex32\u001b[0m\u001b[1;33m,\u001b[0m\u001b[0mreggex33\u001b[0m\u001b[1;33m,\u001b[0m\u001b[0mreggex34\u001b[0m\u001b[1;33m,\u001b[0m\u001b[0mreggex35\u001b[0m\u001b[1;33m,\u001b[0m\u001b[0mreggex36\u001b[0m\u001b[1;33m,\u001b[0m\u001b[0mreggex37\u001b[0m\u001b[1;33m]\u001b[0m\u001b[1;33m\u001b[0m\u001b[1;33m\u001b[0m\u001b[0m\n\u001b[0m",
      "\u001b[1;31mNameError\u001b[0m: name 'regex26' is not defined"
     ]
    }
   ],
   "source": [
    "######################################## regexes to find pH  #############################################################\n",
    "\n",
    "regex1 = r'[^p].[^i][^m][^u][^m].pH (\\d\\d?)[^\\.][^\\d]'                                          # pH 4\n",
    "regex2 = r'[^p].[^i][^m][^u][^m].pH of (\\d\\d?\\.?\\d?\\d?)\\-?(\\d?\\d?\\.?\\d?\\d?) '                   # pH of 7-11   #pH of 7\n",
    "regex3 = r'[^p].[^i][^m][^u][^m].pH (\\d\\d?\\.\\d?\\d?)'                                            # pH 4.54 \n",
    "regex4 = r'[^p].[^i][^m][^u][^m].pH (\\d\\d?\\.?\\d?\\d?) to (\\d\\d?\\.?\\d?\\d?)'                       # pH 4.54 to 5.32\n",
    "regex5 = r'[^p].[^i][^m][^u][^m].pH (\\d\\d?\\.?\\d?\\d?) and (\\d\\d?\\.?\\d?\\d?)'                      # pH 4.54 and 5.32\n",
    "regex6 = r'[^p].[^i][^m][^u][^m].pH (\\d\\d?\\.?\\d?\\d?) and pH (\\d\\d?\\.?\\d?\\d?)'                   # pH 3.23 and pH 6.5\n",
    "regex7 = r'[^p].[^i][^m][^u][^m].pH (\\d\\d?\\.?\\d?\\d?)\\-(\\d\\d?\\.?\\d?\\d?)'                         # pH 5.33-4.23\n",
    "regex8 = r'[^p].[^i][^m][^u][^m].pH of the medium was adjusted to (\\d\\d?\\.?\\d?\\d?)'             # pH of the medium was adjusted to 6.4\n",
    "regex9 = r'[^p].[^i][^m][^u][^m].pH range.+?from (\\d\\d?\\.?\\d?\\d?) to (\\d\\d?\\.?\\d?\\d?)'          # pH range for growth at 70 \"C was from 4.4 to 7.5\n",
    "regex10 = r'[^p].[^i][^m][^u][^m].pH range.+?from (\\d\\d?\\.?\\d?\\d?) to pH (\\d\\d?\\.?\\d?\\d?)'      # pH range for growth at 70 \"C was from 4.4 to pH 7.5\n",
    "regex11 = r'[^p].[^i][^m][^u][^m].pH range.+?from (\\d\\d?\\.?\\d?\\d?) to pH (\\d\\d?\\.?\\d?\\d?)'      # pH range 6-9\n",
    "regex12 = r'from pH (\\d\\d?\\.?\\d?\\d?) to (\\d\\d?\\.?\\d?\\d?)'                                       # from pH 5?5 to 7?0\n",
    "regex13 = r'from pH (\\d\\d?\\.?\\d?\\d?) to pH (\\d\\d?\\.?\\d?\\d?)'                                    # from pH 5?5 to pH 7?0\n",
    "regex14 = r'[^p].[^i][^m][^u][^m].pH from (\\d\\d?\\.?\\d?\\d?) to pH (\\d\\d?\\.?\\d?\\d?)'              # pH from 5?5 to pH 7?0\n",
    "regex15 = r'[^p].[^i][^m][^u][^m].pH from (\\d\\d?\\.?\\d?\\d?) to (\\d\\d?\\.?\\d?\\d?)'                 # pH from 5?5 to 7?0\n",
    "regex16 = r'[^p].[^i][^m][^u][^m].pH values of (\\d\\d?\\.?\\d?\\d?)\\-(\\d\\d?\\.?\\d?\\d?)'              # pH values of 4.8–5.8\n",
    "regex17 = r'[^p].[^i][^m][^u][^m].pH values.+?(\\d\\d?\\.?\\d?\\d?)\\-(\\d\\d?\\.?\\d?\\d?)'               # pH values (4.8–5.8)\n",
    "regex18 = r'[^p].[^i][^m][^u][^m].pH values of (\\d\\d?\\.?\\d?\\d?)'                                # pH values of 4.8\n",
    "regex19 = r'pH values ranging from (\\d\\d?\\.?\\d?\\d?)[ toand\\-or]+?(\\d\\d?\\.?\\d?\\d?)'              # pH values ranging from 7.5 to 9.0\n",
    "regex20 = r'[^p].[^i][^m][^u][^m].pH around (\\d\\d?\\.?\\d?\\d?)\\-(\\d\\d?\\.?\\d?\\d?)'                 # pH around 6.0–6.5\n",
    "regex21 = r'[^p].[^i][^m][^u][^m].pH around (\\d\\d?\\.?\\d?\\d?)'                                   # pH around 6.0\n",
    "regex22 = r'[^p].[^i][^m][^u][^m].pH growth range (\\d\\d?\\.?\\d?\\d?)\\-(\\d\\d?\\.?\\d?\\d?)'           # pH growth range 3.5-6.4\n",
    "regex23 = r'[^p].[^i][^m][^u][^m].pH range for growth[is was for of]+?(\\d\\d?\\.?\\d?\\d?)\\-(\\d\\d?\\.?\\d?\\d?)'    # the pH range for growth of 2.0-6.0  # the pH range for growth is 2.0-6.0   # the pH range for growth was 2.0-6.0\n",
    "regex24 = r'[^p].[^i][^m][^u][^m].pH between (\\d\\d?\\.?\\d?\\d?) and (\\d?\\d?\\.?\\d?\\d?)'                         # pH between 7.5 and 10.5 (optimum 8.8-9)\n",
    "regex25 = r'[^m][^u][^m] pH\\(\\d\\d.+?\\).+?(\\d\\d?\\.?\\d?\\d?)[ -andorto]+?(\\d?\\d[\\.]\\d?\\d?)'                     #The pH(60 degrees C) range for growth was 4.0-8.0\n",
    "\n",
    "\n",
    "######################################## regexes to find optimum pH  #############################################################\n",
    "\n",
    "\n",
    "reggex1 = r'(optimum) pH (\\d\\d?\\.?\\d?\\d?)'                                  #optimum pH 5.6\n",
    "reggex2 = r'(optimum) pH (\\d\\d?\\.?\\d?\\d?)'                                  #optimum pH 5.6\n",
    "reggex3 = r'(optimum) pH (\\d\\d?\\.?\\d?\\d?)\\-(\\d\\d?\\.?\\d?\\d?)'                #optimum pH 5.6-6.5\n",
    "reggex4 = r'(optimum) pH (\\d\\d?\\.?\\d?\\d?) or (\\d\\d?\\.?\\d?\\d?)'              #optimum pH 5.6 or 6.5\n",
    "reggex5 = r'(optimum) pH (\\d\\d?\\.?\\d?\\d?) and (\\d\\d?\\.?\\d?\\d?)'             #optimum pH 5.6 and 6.5\n",
    "reggex6 = r'(optimum) at pH (\\d\\d?\\.?\\d?\\d?)'                               #optimum at pH 7.25\n",
    "reggex7 = r'(optimum), pH (\\d\\d?\\.?\\d?\\d?)\\-?(\\d?\\d?\\.?\\d?\\d?)'             #optimum, pH 8.0-9.0\n",
    "reggex8 = r'(optimum) pH was (\\d\\d?\\.?\\d?\\d?)'                              #optimum pH was 2.3\n",
    "reggex9 = r'(optimum) pH was (\\d\\d?\\.?\\d?\\d?)\\-(\\d\\d?\\.?\\d?\\d)'             #optimum pH was 2.3-9.2\n",
    "reggex10 = r'growing (optimally) at pH (\\d\\d?\\.?\\d?\\d?)\\-(\\d\\d?\\.?\\d?\\d?)'  #growing optimally at pH 3.5-4.0\n",
    "reggex11 = r'ptimum pH around (\\d\\d?\\.?\\d?\\d?)'                             #optimum pH around 6.0\n",
    "reggex12 = r'ptimum pH of the medium was adjusted to (\\d\\d?\\.?\\d?\\d?)'                        #optimum pH of the medium was adjusted to 6.4\n",
    "reggex13 = r'ptimum pH range.+?from (\\d\\d?\\.?\\d?\\d?) to (\\d\\d?\\.?\\d?\\d?)'                     #optimum pH range for growth at 70 \"C was from 4.4 to 7.5\n",
    "reggex14 = r'ptimum pH range.+?from (\\d\\d?\\.?\\d?\\d?) to pH (\\d\\d?\\.?\\d?\\d?)'                  #optimum pH range for growth at 70 \"C was from 4.4 to pH 7.5\n",
    "reggex15 = r'[^p].[^i][^m][^u][^m].pH range (\\d\\d?\\.?\\d?\\d?)[ toand\\-or]+?(\\d\\d?\\.?\\d?\\d?)'   #from optimum pH 5?5 to 7?0\n",
    "reggex16 = r'from optimum pH (\\d\\d?\\.?\\d?\\d?) to (\\d\\d?\\.?\\d?\\d?)'                            #from optimum pH 5?5 to 7?0\n",
    "reggex17 = r'from optimum pH (\\d\\d?\\.?\\d?\\d?) to pH (\\d\\d?\\.?\\d?\\d?)'                         #from optimum pH 5?5 to pH 7?0\n",
    "reggex18 = r'ptimum pH from (\\d\\d?\\.?\\d?\\d?) to pH (\\d\\d?\\.?\\d?\\d?)'                          #optimum pH from 5?5 to pH 7?0\n",
    "reggex19 = r'ptimum pH values of (\\d\\d?\\.?\\d?\\d?)\\-(\\d\\d?\\.?\\d?\\d?)'                          #optimum pH values of 4.8–5.8\n",
    "reggex20 = r'ptimum pH values.+?(\\d\\d?\\.?\\d?\\d?)\\-(\\d\\d?\\.?\\d?\\d?)'                           #optimum pH values (4.8–5.8)\n",
    "reggex21 = r'ptimum pH values of (\\d\\d?\\.?\\d?\\d?)'                                            #optimum pH values of 4.8 \n",
    "reggex22 = r'ptimum pH around (\\d\\d?\\.?\\d?\\d?)\\-(\\d\\d?\\.?\\d?\\d?)'                             #optimum pH around 6.0–6.5\n",
    "reggex23 = r'ptimum pH around (\\d\\d?\\.?\\d?\\d?)'                                               #optimum pH around 6.0\n",
    "reggex24 = r'ptimum pH growth range (\\d\\d?\\.?\\d?\\d?)\\-(\\d\\d?\\.?\\d?\\d?)'                       #optimum pH growth range 3.5-6.4\n",
    "reggex25 = r'ptimum pH range for growth of (\\d\\d?\\.?\\d?\\d?)\\-(\\d\\d?\\.?\\d?\\d?)'                #optimum the pH range for growth of 2.0-6.0\n",
    "reggex26 = r'pH growth range \\d\\d?\\.?\\d?\\d?\\-\\d\\d?\\.?\\d?\\d?.?.?.?.?.?(optimum).*?(\\d\\d?\\.?\\d?\\d?)\\-(\\d\\d?\\.?\\d?\\d)'            #(pH growth range 3.5-6.4; optimum, 4.0-4.5) than strain KA1(T)\n",
    "reggex27 = r'pH range for growth of \\d\\d?\\.?\\d?\\d?\\-\\d\\d?\\.?\\d?\\d \\(with an (optimum) at (\\d\\d?\\.?\\d?\\d?)\\-?(\\d?\\d?\\.?\\d?\\d?)' #the pH range for growth of 2.0-6.0 (with an optimum at 3.8)\n",
    "reggex28 = r'The (optimum) growth temperature and pH were found to be \\d\\d?\\.?\\d?\\d?-\\d\\d?\\.?\\d?\\d?.+?and (\\d\\d?\\.?\\d?\\d?)-(\\d\\d?\\.?\\d?\\d?).+?respectively'\n",
    "#The optimum growth temperature and pH were found to be 25-30 °C and 5.0-7.0, respectively\n",
    "reggex29 = r'(optimal) pH of (\\d\\d?\\.?\\d?\\d?)-(\\d\\d?\\.?\\d?\\d?)'      #optimal pH of 6-8\n",
    "reggex30 = r'pH between \\d\\d?\\.?\\d?\\d? and \\d?\\d?\\.?\\d?\\d? \\((optimum) (\\d\\d?\\.?\\d?\\d?)\\-(\\d?\\d?\\.?\\d?\\d?)'\n",
    "reggex31 = r'(optimum) pH for growth was (\\d\\d?\\.?\\d?\\d?)'           #optimum pH for growth was 9.5\n",
    "reggex32 = r'(optimum) pH for growth was (\\d\\d?\\.?\\d?\\d?)[ toand\\-or]+?(\\d\\d?\\.?\\d?\\d?)'\n",
    "#optimum pH for growth was 9.5 to 3.43   #optimum pH for growth was 9.5 and 8.4    #optimum pH for growth was 9.5-3.4    #optimum pH for growth was 9.5 or 3.2\n",
    "reggex33 = r'(optimum).pH was between (\\d\\d?\\.?\\d?\\d?)[ toand\\-or]+?(\\d\\d?\\.?\\d?\\d?)'\n",
    "reggex34 = r'pH range for growth[is was for of]+?\\d\\d?\\.?\\d?\\d?\\-\\d\\d?\\.?\\d?\\d?.+?(optimum) (\\d\\d?\\.?\\d?\\d?)\\-?(\\d?\\d?\\.?\\d?\\d?)'\n",
    "reggex35 = r'(optimum) pH[ isbetween,;:was]+(\\d\\d?\\.?\\d?\\d?)[ \\-andto]+(\\d\\d?\\.?\\d?\\d?)'    #optimum pH between 7.0 and 8.5\n",
    "reggex36 = r'(optimum) pH[ isbetween,;:was]+(\\d\\d?\\.?\\d?\\d?)'\n",
    "reggex37 = r'temperature and pH for (optimum) growth were \\d+[^\\d]+(\\d\\d?\\.?\\d?\\d?)' #The temperature and pH for optimum growth were 30 °C and 7.5\n",
    "\n",
    "\n",
    "\n",
    "#####################################  make a list of regexes   #################################################\n",
    "regexes = [regex1,regex2,regex3,regex4,regex5,regex6,regex7,regex8,regex9,regex10,regex11,regex12,regex13,regex14,regex15,regex16,regex17,regex18,regex19,regex20,regex21,regex22,regex23,regex24,regex25,regex26,regex27,      reggex1,reggex2,reggex3,reggex4,reggex5,reggex6,reggex7,reggex8,reggex9,reggex10,reggex11,reggex12,reggex13,reggex14,reggex15,reggex16,reggex17,reggex18,reggex19,reggex20,reggex21,reggex22,reggex23,reggex24,reggex25,reggex26,reggex27,reggex28,reggex29,reggex30,reggex31,reggex32,reggex33,reggex34,reggex35,reggex36,reggex37]"
   ]
  },
  {
   "cell_type": "markdown",
   "metadata": {},
   "source": [
    "# more advanced kind of regex"
   ]
  },
  {
   "cell_type": "code",
   "execution_count": 15,
   "metadata": {},
   "outputs": [],
   "source": [
    "\n",
    "general_regex_for_pH =r'(?: from | range |)(?:(?:(optimally)|(optimum)|(optimal)|(optima)|growth|(?#next step is because we dont want and/to/or before our pH))(?: |, | at |)pH(?:s|)(?: growth|)(?: (optimal)| (optimum)| (optima)|(?: |)\\(\\d.*?(?:C|c).*?\\) ?|(?: |)\\(\\d.*?degrees.*?\\) ?| range| ranged| |))(?:(?:(?: for.+?|)|(?: growth|)(?:| range(?:| for growth)| values))(?:(?: was| were| is| are)(?:.{0,30}?)|)(?:| of| at| approximately| around| between| from| ranging from)| of the medium was adjusted to)(?#from here its about digits)(?:(?: |\\(| \\()(?#here is the first pH)((?:[1][01234]|[0-9])(?:\\.\\d|\\.\\d\\d|))(?:(?#here is the seperators)(?: |–|\\-| to | and | or | and pH | or pH | to pH |\\-pH )(?#here is the second pH)((?:[1][01234]|[0-9])(?:\\.\\d|\\.\\d\\d|))|))(?#end of digits)(?#what comes after pH digits)(?:.{0,20}(optimum)(?#from here is the optimum that sometimes comes at the end of the main part, so from now the main sentence is finished)(?:(?#from here its about digits)(?:(?#here is the first pH)(?:.{0,10}?((?:[1][01234]|[0-9])(?:\\.\\d|\\.\\d\\d|)))(?:(?#here is the seperators)(?: |–|\\-| to | and | or | and pH | or pH | to pH |\\-pH )(?#here is the second pH)((?:[1][01234]|[0-9])(?:\\.\\d|\\.\\d\\d|))|)))|)(?#end of digits)(?#what comes after pH digits)(?=(?:\\)|,|;|:| |\\.))(?![c|C|°|d|%]| [c|C|°|d|%]|  [c|C|°|d|%])'\n",
    "other_regexes = r'(neutral) pH|(neutral to alkaline) pH'\n",
    "\n",
    "regexes = [general_regex_for_pH, other_regexes]"
   ]
  },
  {
   "cell_type": "markdown",
   "metadata": {},
   "source": [
    "# last resort regex for the missing data"
   ]
  },
  {
   "cell_type": "code",
   "execution_count": 14,
   "metadata": {},
   "outputs": [],
   "source": [
    "# this needs to be checked\n",
    "last_resort =r'(?:(opti).{0,40}|)pH.{0,80}?(?:(optimally)|(optimum)|(optimal)|(optima)|).{0,20}?\\D((?:[1][01234]|[0-9])(?:\\.\\d|\\.\\d\\d|))(?:(?#here is the seperators)(?: |–|\\-| to | and | or | and pH | or pH | to pH |\\-pH )(?#here is the second pH)((?:[1][01234]|[0-9])(?:\\.\\d|\\.\\d\\d|))|)(?=(?:\\)|,|;|:| |\\.\\D))(?![c|C|°|d|%]| [c|C|°|d|%]|  [c|C|°|d|%])'\n",
    "\n",
    "regexes = [last_resort]"
   ]
  },
  {
   "cell_type": "markdown",
   "metadata": {},
   "source": [
    "# my def"
   ]
  },
  {
   "cell_type": "code",
   "execution_count": 25,
   "metadata": {},
   "outputs": [],
   "source": [
    "# this def gets an species name and gives a string(query) which we can later use to search pubmed\n",
    "# here we want \"nov\" to be in our title ----> nov means\n",
    "# we want pH to be in either Title or Abstract\n",
    "\n",
    "def make_pubmed_advance_search_query(species_name):\n",
    "    query = '((' + str(species_name) + '[Title]) AND (nov[Title])) AND (pH[Title/Abstract])'\n",
    "    \n",
    "    return (query)"
   ]
  },
  {
   "cell_type": "code",
   "execution_count": 28,
   "metadata": {},
   "outputs": [],
   "source": [
    "# this def gets an species name and gives a string(query) which we can later use to search pubmed\n",
    "# here we want \"nov\" to be in our title ----> nov means\n",
    "# we want pH to be in either Title or Abstract\n",
    "\n",
    "def make_pubmed_advance_search_query(species_name):\n",
    "    query = '((' + str(species_name) + '[Title/Abstract]) AND (nov[Title]))'\n",
    "    \n",
    "    return (query)"
   ]
  },
  {
   "cell_type": "code",
   "execution_count": 29,
   "metadata": {},
   "outputs": [],
   "source": [
    "# this def gets a string(query include species name) and gives an abstract using pubmed API\n",
    "\n",
    "def get_abstract_from_pubmed(query):\n",
    "    \n",
    "    # Create a PubMed object that GraphQL can use to query\n",
    "    # Note that the parameters are not required but kindly requested by PubMed Central\n",
    "    # https://www.ncbi.nlm.nih.gov/pmc/tools/developers/\n",
    "    pubmed = PubMed(tool=\"MyTool\", email=\"kz.kalhor@gmail.com\")\n",
    "\n",
    "    # Execute the query against the API\n",
    "    results = pubmed.query(query, max_results=500)\n",
    "\n",
    "    # Loop over the retrieved articles\n",
    "    for article in results:\n",
    "\n",
    "        # Extract and format information from the article\n",
    "        article_id = article.pubmed_id\n",
    "        title = article.title\n",
    "        if article.keywords:\n",
    "            if None in article.keywords:\n",
    "                article.keywords.remove(None)\n",
    "            keywords = '\", \"'.join(article.keywords)\n",
    "        publication_date = article.publication_date\n",
    "        abstract = article.abstract\n",
    "\n",
    "\n",
    "        # # make a file for the next step\n",
    "        result_of_search = (\n",
    "            f'{article_id} - {publication_date} - {title}\\n \\n{abstract}\\n'\n",
    "        )\n",
    "        \n",
    "        return(result_of_search)\n",
    "        \n",
    "        \n"
   ]
  },
  {
   "cell_type": "code",
   "execution_count": 30,
   "metadata": {},
   "outputs": [],
   "source": [
    "# with this function I remove unicode characters\n",
    "# in future i had to learn a better way to remove this characters\n",
    "\n",
    "def get_abstract_make_changes(abstract):\n",
    "    abstract = abstract.replace(\"\\u2009\",' ')\n",
    "    abstract = abstract.replace.replace(\"&emsp14;\",' ')\n",
    "    abstract = abstract.replace.replace(\"?\",'-')\n",
    "    abstract = abstract.replace.replace(\"\\n\",' ')\n",
    "    abstract = abstract.replace.replace('\\u200a',' ')\n",
    "    abstract = abstract.replace.replace('\\xa0',' ')\n",
    "    abstract = abstract.replace+ '             '\n",
    "    return(abstract)"
   ]
  },
  {
   "cell_type": "code",
   "execution_count": 31,
   "metadata": {},
   "outputs": [],
   "source": [
    "# this def gets an Abstract and gives an important sentence which includes pH\n",
    "# this step is not neccessary but i need it because i want to check the results using this sentences\n",
    "\n",
    "def find_sentence_with_pH_data(abstract):\n",
    "    the_sentence_about_pH = None\n",
    "    # a is where the pH is located in the text\n",
    "    if 'pH' in abstract:\n",
    "        a = abstract.index('pH')\n",
    "        # here we selecte the surrounding text\n",
    "        s = abstract[a-300:a+300]\n",
    "        # spliting the right sentence\n",
    "        x = s.split(\". \")\n",
    "        for i in range(0,len(x)):\n",
    "            if 'pH' in x[i]:\n",
    "                the_sentence_about_pH = x[i].replace('\\u2009', ' ')  # this code removes a unicode problem\n",
    "\n",
    "        return (the_sentence_about_pH)"
   ]
  },
  {
   "cell_type": "code",
   "execution_count": 32,
   "metadata": {},
   "outputs": [],
   "source": [
    "# the final def to search for whatever information we want from a string\n",
    "# the string can be either the pH sentence or the complete abstract\n",
    "# it gets the 'pH_sentence' and gives a list of what_regex_find\n",
    "\n",
    "def get_sentence_give_pH_data(pH_sentence):\n",
    "    pH_sentence = str(pH_sentence)    #I did this because of an error\n",
    "    what_regex_found = []\n",
    "    for regex in regexes:\n",
    "        \n",
    "        \n",
    "        what_is_found = re.findall(regex, pH_sentence)\n",
    "        if what_is_found != []:\n",
    "            what_regex_found.append(what_is_found)\n",
    "        \n",
    "    return (what_regex_found)\n",
    "\n",
    "# this code needs a list of regexes\n",
    "# it gets a sentence as an imput\n",
    "# the output is a list of what regex found"
   ]
  },
  {
   "cell_type": "code",
   "execution_count": 33,
   "metadata": {},
   "outputs": [],
   "source": [
    "# this list help me to find specied with no record\n",
    "list_of_species_with_no_record = []"
   ]
  },
  {
   "cell_type": "markdown",
   "metadata": {},
   "source": [
    "# final code"
   ]
  },
  {
   "cell_type": "code",
   "execution_count": 34,
   "metadata": {},
   "outputs": [],
   "source": [
    "\n",
    "#make a data frame for final storage\n",
    "df = pd.DataFrame([[1, 2, 3, 4, 5],[1, 2, 3, 4, 5]], columns = ['species_name' ,  'query' ,  'abstract' ,   'pH_sentence' , 'what_regexss_found'])\n",
    "\n",
    "\n",
    "for species_name in list_of_species:\n",
    "    query = make_pubmed_advance_search_query(species_name)\n",
    "    abstract = get_abstract_from_pubmed(query)\n",
    "\n",
    "    if abstract is None:                  #this occurs when there is no search result for a query\n",
    "        list_of_species_with_no_record.append(species_name)\n",
    "        continue\n",
    "\n",
    "\n",
    "    pH_sentence = find_sentence_with_pH_data(abstract)\n",
    "\n",
    "    what_regexss_found = get_sentence_give_pH_data(pH_sentence)\n",
    "\n",
    "\n",
    "\n",
    "    #print (species_name , \"===================\" , query , \"++++++++++++++++++++\", abstract , \"******************\" , pH_sentence , \">>>>>>>>>>>>>>>\" , what_regex_found)\n",
    "    #print (pH_sentence , \">>>>>>>>>>>>>>>\" , what_regexss_found)\n",
    "\n",
    "    #making lists and finally a dataframe\n",
    "    list_data = [species_name , query , abstract , pH_sentence ,  what_regexss_found]\n",
    "    while len (list_data) != 5:\n",
    "        list_data.append(' ')\n",
    "    #print(list_data)\n",
    "\n",
    "    data_series = pd.Series(list_data,index = df.columns)\n",
    "    df = df.append(data_series, ignore_index=True) \n",
    "\n",
    "\n",
    "df.to_csv(r'C:\\Users\\kamy\\Desktop\\compare_new_final_df.csv')"
   ]
  },
  {
   "cell_type": "code",
   "execution_count": 35,
   "metadata": {},
   "outputs": [
    {
     "data": {
      "text/plain": [
       "24"
      ]
     },
     "execution_count": 35,
     "metadata": {},
     "output_type": "execute_result"
    }
   ],
   "source": [
    "len(list_of_species_with_no_record)"
   ]
  },
  {
   "cell_type": "code",
   "execution_count": null,
   "metadata": {},
   "outputs": [],
   "source": [
    "for species_name in list_of_species:"
   ]
  }
 ],
 "metadata": {
  "kernelspec": {
   "display_name": "Python 3",
   "language": "python",
   "name": "python3"
  },
  "language_info": {
   "codemirror_mode": {
    "name": "ipython",
    "version": 3
   },
   "file_extension": ".py",
   "mimetype": "text/x-python",
   "name": "python",
   "nbconvert_exporter": "python",
   "pygments_lexer": "ipython3",
   "version": "3.8.3"
  }
 },
 "nbformat": 4,
 "nbformat_minor": 4
}
