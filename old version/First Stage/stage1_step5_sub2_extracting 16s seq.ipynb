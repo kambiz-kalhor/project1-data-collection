{
 "cells": [
  {
   "cell_type": "markdown",
   "metadata": {},
   "source": [
    "# the goal is to extract 16S sequences using accession number"
   ]
  },
  {
   "cell_type": "code",
   "execution_count": 1,
   "metadata": {},
   "outputs": [],
   "source": [
    "#first we import the cvs file 0_13400"
   ]
  },
  {
   "cell_type": "code",
   "execution_count": 2,
   "metadata": {},
   "outputs": [],
   "source": [
    "import pandas as pd\n",
    "all_data = pd.read_csv(r\"C:\\Users\\kamy\\Desktop\\text extraxtion\\new way report 4\\0_13400.csv\")"
   ]
  },
  {
   "cell_type": "code",
   "execution_count": 3,
   "metadata": {},
   "outputs": [
    {
     "data": {
      "text/html": [
       "<div>\n",
       "<style scoped>\n",
       "    .dataframe tbody tr th:only-of-type {\n",
       "        vertical-align: middle;\n",
       "    }\n",
       "\n",
       "    .dataframe tbody tr th {\n",
       "        vertical-align: top;\n",
       "    }\n",
       "\n",
       "    .dataframe thead th {\n",
       "        text-align: right;\n",
       "    }\n",
       "</style>\n",
       "<table border=\"1\" class=\"dataframe\">\n",
       "  <thead>\n",
       "    <tr style=\"text-align: right;\">\n",
       "      <th></th>\n",
       "      <th>Unnamed: 0</th>\n",
       "      <th>0</th>\n",
       "      <th>1</th>\n",
       "      <th>2</th>\n",
       "      <th>3</th>\n",
       "      <th>4</th>\n",
       "      <th>5</th>\n",
       "      <th>6</th>\n",
       "      <th>7</th>\n",
       "      <th>8</th>\n",
       "      <th>...</th>\n",
       "      <th>24</th>\n",
       "      <th>25</th>\n",
       "      <th>26</th>\n",
       "      <th>27</th>\n",
       "      <th>28</th>\n",
       "      <th>29</th>\n",
       "      <th>30</th>\n",
       "      <th>31</th>\n",
       "      <th>32</th>\n",
       "      <th>33</th>\n",
       "    </tr>\n",
       "  </thead>\n",
       "  <tbody>\n",
       "    <tr>\n",
       "      <th>0</th>\n",
       "      <td>https://bacdive.dsmz.de/strain/132558</td>\n",
       "      <td>Abyssicoccus albus strain LIPI11-2-Ac043 16S r...</td>\n",
       "      <td>KT935587</td>\n",
       "      <td>ENA</td>\n",
       "      <td>1817405 tax ID</td>\n",
       "      <td>Abyssicoccus albus DSM 29158</td>\n",
       "      <td>GCA_003815035</td>\n",
       "      <td>scaffold</td>\n",
       "      <td>GenBank</td>\n",
       "      <td>1817405 tax ID</td>\n",
       "      <td>...</td>\n",
       "      <td>NaN</td>\n",
       "      <td>NaN</td>\n",
       "      <td>NaN</td>\n",
       "      <td>NaN</td>\n",
       "      <td>NaN</td>\n",
       "      <td>NaN</td>\n",
       "      <td>NaN</td>\n",
       "      <td>NaN</td>\n",
       "      <td>NaN</td>\n",
       "      <td>NaN</td>\n",
       "    </tr>\n",
       "    <tr>\n",
       "      <th>1</th>\n",
       "      <td>https://bacdive.dsmz.de/strain/132478</td>\n",
       "      <td>Abyssivirga alkaniphila strain L81 16S ribosom...</td>\n",
       "      <td>KP233895</td>\n",
       "      <td>ENA</td>\n",
       "      <td>1675854 tax ID</td>\n",
       "      <td>NaN</td>\n",
       "      <td>NaN</td>\n",
       "      <td>NaN</td>\n",
       "      <td>NaN</td>\n",
       "      <td>NaN</td>\n",
       "      <td>...</td>\n",
       "      <td>NaN</td>\n",
       "      <td>NaN</td>\n",
       "      <td>NaN</td>\n",
       "      <td>NaN</td>\n",
       "      <td>NaN</td>\n",
       "      <td>NaN</td>\n",
       "      <td>NaN</td>\n",
       "      <td>NaN</td>\n",
       "      <td>NaN</td>\n",
       "      <td>NaN</td>\n",
       "    </tr>\n",
       "    <tr>\n",
       "      <th>2</th>\n",
       "      <td>https://bacdive.dsmz.de/strain/2838</td>\n",
       "      <td>Clostridium alkalicellum 16S ribosomal RNA gen...</td>\n",
       "      <td>AY959944</td>\n",
       "      <td>ENA</td>\n",
       "      <td>320502 tax ID</td>\n",
       "      <td>Hungateiclostridium alkalicellulosi DSM 17461</td>\n",
       "      <td>GCA_008125075</td>\n",
       "      <td>scaffold</td>\n",
       "      <td>GenBank</td>\n",
       "      <td>320502 tax ID</td>\n",
       "      <td>...</td>\n",
       "      <td>NaN</td>\n",
       "      <td>NaN</td>\n",
       "      <td>NaN</td>\n",
       "      <td>NaN</td>\n",
       "      <td>NaN</td>\n",
       "      <td>NaN</td>\n",
       "      <td>NaN</td>\n",
       "      <td>NaN</td>\n",
       "      <td>NaN</td>\n",
       "      <td>NaN</td>\n",
       "    </tr>\n",
       "    <tr>\n",
       "      <th>3</th>\n",
       "      <td>https://bacdive.dsmz.de/strain/2853</td>\n",
       "      <td>Clostridium clariflavum gene for 16S rRNA</td>\n",
       "      <td>AB186359</td>\n",
       "      <td>ENA</td>\n",
       "      <td>720554 tax ID</td>\n",
       "      <td>Hungateiclostridium clariflavum DSM 19732</td>\n",
       "      <td>GCA_000237085</td>\n",
       "      <td>complete</td>\n",
       "      <td>GenBank</td>\n",
       "      <td>720554 tax ID</td>\n",
       "      <td>...</td>\n",
       "      <td>NaN</td>\n",
       "      <td>NaN</td>\n",
       "      <td>NaN</td>\n",
       "      <td>NaN</td>\n",
       "      <td>NaN</td>\n",
       "      <td>NaN</td>\n",
       "      <td>NaN</td>\n",
       "      <td>NaN</td>\n",
       "      <td>NaN</td>\n",
       "      <td>NaN</td>\n",
       "    </tr>\n",
       "    <tr>\n",
       "      <th>4</th>\n",
       "      <td>https://bacdive.dsmz.de/strain/2827</td>\n",
       "      <td>Clostridium straminisolvens gene for 16S rRNA,...</td>\n",
       "      <td>AB125279</td>\n",
       "      <td>ENA</td>\n",
       "      <td>253314 tax ID</td>\n",
       "      <td>NaN</td>\n",
       "      <td>NaN</td>\n",
       "      <td>NaN</td>\n",
       "      <td>NaN</td>\n",
       "      <td>NaN</td>\n",
       "      <td>...</td>\n",
       "      <td>NaN</td>\n",
       "      <td>NaN</td>\n",
       "      <td>NaN</td>\n",
       "      <td>NaN</td>\n",
       "      <td>NaN</td>\n",
       "      <td>NaN</td>\n",
       "      <td>NaN</td>\n",
       "      <td>NaN</td>\n",
       "      <td>NaN</td>\n",
       "      <td>NaN</td>\n",
       "    </tr>\n",
       "  </tbody>\n",
       "</table>\n",
       "<p>5 rows × 35 columns</p>\n",
       "</div>"
      ],
      "text/plain": [
       "                              Unnamed: 0  \\\n",
       "0  https://bacdive.dsmz.de/strain/132558   \n",
       "1  https://bacdive.dsmz.de/strain/132478   \n",
       "2    https://bacdive.dsmz.de/strain/2838   \n",
       "3    https://bacdive.dsmz.de/strain/2853   \n",
       "4    https://bacdive.dsmz.de/strain/2827   \n",
       "\n",
       "                                                   0         1     2  \\\n",
       "0  Abyssicoccus albus strain LIPI11-2-Ac043 16S r...  KT935587   ENA   \n",
       "1  Abyssivirga alkaniphila strain L81 16S ribosom...  KP233895   ENA   \n",
       "2  Clostridium alkalicellum 16S ribosomal RNA gen...  AY959944   ENA   \n",
       "3          Clostridium clariflavum gene for 16S rRNA  AB186359   ENA   \n",
       "4  Clostridium straminisolvens gene for 16S rRNA,...  AB125279   ENA   \n",
       "\n",
       "                3                                              4  \\\n",
       "0  1817405 tax ID                   Abyssicoccus albus DSM 29158   \n",
       "1  1675854 tax ID                                            NaN   \n",
       "2   320502 tax ID  Hungateiclostridium alkalicellulosi DSM 17461   \n",
       "3   720554 tax ID      Hungateiclostridium clariflavum DSM 19732   \n",
       "4   253314 tax ID                                            NaN   \n",
       "\n",
       "               5         6         7               8  ...   24   25   26   27  \\\n",
       "0  GCA_003815035  scaffold   GenBank  1817405 tax ID  ...  NaN  NaN  NaN  NaN   \n",
       "1            NaN       NaN       NaN             NaN  ...  NaN  NaN  NaN  NaN   \n",
       "2  GCA_008125075  scaffold   GenBank   320502 tax ID  ...  NaN  NaN  NaN  NaN   \n",
       "3  GCA_000237085  complete   GenBank   720554 tax ID  ...  NaN  NaN  NaN  NaN   \n",
       "4            NaN       NaN       NaN             NaN  ...  NaN  NaN  NaN  NaN   \n",
       "\n",
       "    28   29   30   31   32   33  \n",
       "0  NaN  NaN  NaN  NaN  NaN  NaN  \n",
       "1  NaN  NaN  NaN  NaN  NaN  NaN  \n",
       "2  NaN  NaN  NaN  NaN  NaN  NaN  \n",
       "3  NaN  NaN  NaN  NaN  NaN  NaN  \n",
       "4  NaN  NaN  NaN  NaN  NaN  NaN  \n",
       "\n",
       "[5 rows x 35 columns]"
      ]
     },
     "execution_count": 3,
     "metadata": {},
     "output_type": "execute_result"
    }
   ],
   "source": [
    "all_data.head()"
   ]
  },
  {
   "cell_type": "markdown",
   "metadata": {},
   "source": [
    "# Next we extract all the 16S accession numbers and a list of links"
   ]
  },
  {
   "cell_type": "code",
   "execution_count": 4,
   "metadata": {},
   "outputs": [],
   "source": [
    "links_list = []\n",
    "list_of_accession_numbers = []\n",
    "for i in range (0,13400):\n",
    "    for j in range(0,35):\n",
    "        x = str(all_data.iloc[i,j])\n",
    "        if \"16S\" in x:\n",
    "            links_list.append(all_data.iloc[i,0])\n",
    "            list_of_accession_numbers.append(all_data.iloc[i,j+1])"
   ]
  },
  {
   "cell_type": "markdown",
   "metadata": {},
   "source": [
    "# here is our links_list and list_of_accession_numbers"
   ]
  },
  {
   "cell_type": "code",
   "execution_count": 5,
   "metadata": {},
   "outputs": [
    {
     "data": {
      "text/plain": [
       "11521"
      ]
     },
     "execution_count": 5,
     "metadata": {},
     "output_type": "execute_result"
    }
   ],
   "source": [
    "len(links_list)"
   ]
  },
  {
   "cell_type": "code",
   "execution_count": 6,
   "metadata": {},
   "outputs": [
    {
     "data": {
      "text/plain": [
       "11521"
      ]
     },
     "execution_count": 6,
     "metadata": {},
     "output_type": "execute_result"
    }
   ],
   "source": [
    "len(list_of_accession_numbers)"
   ]
  },
  {
   "cell_type": "markdown",
   "metadata": {},
   "source": [
    "# now its time to extract the subsequent sequence data using their accession numbers"
   ]
  },
  {
   "cell_type": "code",
   "execution_count": 13,
   "metadata": {},
   "outputs": [],
   "source": [
    "from Bio import Entrez\n",
    "from Bio import SeqIO\n",
    "\n",
    "Entrez.email = 'kz.kalhor@gmail.com'"
   ]
  },
  {
   "cell_type": "code",
   "execution_count": 113,
   "metadata": {},
   "outputs": [],
   "source": [
    "erorrs = []\n",
    "list_id = []\n",
    "list_seq =[]\n",
    "list_description =[]\n",
    "for i in list_of_accession_numbers:\n",
    "    try:\n",
    "        handle = Entrez.efetch(db = \"nucleotide\", id = i, rettype = \"fasta\")\n",
    "        record = SeqIO.read( handle, \"fasta\" )\n",
    "        list_id.append(record.id)\n",
    "        list_description.append(record.description)\n",
    "        list_seq.append(record.seq)\n",
    "        \n",
    "    except:\n",
    "        erorrs.append(i)\n",
    "    list_of_tuples = list(zip(p, list_description, list_seq))\n",
    "    df = pd.DataFrame(list_of_tuples,columns = ['accession number', \"description\",'sequence'])\n",
    "    df.to_csv(r\"C:\\Users\\kamy\\Desktop\\text extraxtion\\new way report 5\\ALL_DATA.csv\")"
   ]
  }
 ],
 "metadata": {
  "kernelspec": {
   "display_name": "Python 3",
   "language": "python",
   "name": "python3"
  },
  "language_info": {
   "codemirror_mode": {
    "name": "ipython",
    "version": 3
   },
   "file_extension": ".py",
   "mimetype": "text/x-python",
   "name": "python",
   "nbconvert_exporter": "python",
   "pygments_lexer": "ipython3",
   "version": "3.8.3"
  }
 },
 "nbformat": 4,
 "nbformat_minor": 4
}
